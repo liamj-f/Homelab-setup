{
 "cells": [
  {
   "cell_type": "code",
   "execution_count": 2,
   "id": "86b0aae1",
   "metadata": {},
   "outputs": [
    {
     "name": "stdout",
     "output_type": "stream",
     "text": [
      "Requirement already satisfied: requests in c:\\users\\laptop user\\appdata\\local\\programs\\python\\python313\\lib\\site-packages (2.32.5)\n",
      "Requirement already satisfied: charset_normalizer<4,>=2 in c:\\users\\laptop user\\appdata\\local\\programs\\python\\python313\\lib\\site-packages (from requests) (3.4.4)\n",
      "Requirement already satisfied: idna<4,>=2.5 in c:\\users\\laptop user\\appdata\\local\\programs\\python\\python313\\lib\\site-packages (from requests) (3.11)\n",
      "Requirement already satisfied: urllib3<3,>=1.21.1 in c:\\users\\laptop user\\appdata\\local\\programs\\python\\python313\\lib\\site-packages (from requests) (2.5.0)\n",
      "Requirement already satisfied: certifi>=2017.4.17 in c:\\users\\laptop user\\appdata\\local\\programs\\python\\python313\\lib\\site-packages (from requests) (2025.10.5)\n",
      "Note: you may need to restart the kernel to use updated packages.\n"
     ]
    },
    {
     "name": "stderr",
     "output_type": "stream",
     "text": [
      "\n",
      "[notice] A new release of pip is available: 25.1.1 -> 25.3\n",
      "[notice] To update, run: python.exe -m pip install --upgrade pip\n"
     ]
    }
   ],
   "source": [
    "pip install requests"
   ]
  },
  {
   "cell_type": "code",
   "execution_count": 3,
   "id": "66e2f669",
   "metadata": {},
   "outputs": [],
   "source": [
    "\n",
    "import requests\n",
    "import sys\n",
    "import time\n",
    "import os\n",
    "from datetime import datetime\n"
   ]
  },
  {
   "cell_type": "code",
   "execution_count": null,
   "id": "3d88912a",
   "metadata": {},
   "outputs": [],
   "source": [
    "Primary_HOST = \"http://\" + os.getenv('Primary_IP') + \":82\"\n",
    "Secondary_HOST = \"http://\" + os.getenv('Secondary_IP') + \":82\"\n",
    "Primary_PASSWORD = os.getenv('APP_PASSWORD')\n",
    "Secondary_PASSWORD = os.getenv('APP_PASSWORD')\n",
    "CHECK_INTERVAL = os.getenv('CHECK_INTERVAL', '300')"
   ]
  },
  {
   "cell_type": "code",
   "execution_count": 5,
   "id": "91c8f75e",
   "metadata": {},
   "outputs": [],
   "source": [
    "def log(message):\n",
    "    \"\"\"Print timestamped log message\"\"\"\n",
    "    timestamp = datetime.now().strftime(\"%Y-%m-%d %H:%M:%S\")\n",
    "    print(f\"[{timestamp}] {message}\")"
   ]
  },
  {
   "cell_type": "code",
   "execution_count": 6,
   "id": "3098b6b3",
   "metadata": {},
   "outputs": [],
   "source": [
    "def auth_pihole(base_url, password):\n",
    "    if not password:\n",
    "        log(f\"ERROR: No password provided for {base_url}\")\n",
    "        return None\n",
    "    \n",
    "    try:\n",
    "        #log(f\"Logging into {base_url}.\")\n",
    "        response = requests.post(\n",
    "            f\"{base_url}/api/auth\",\n",
    "            json={\"password\": password},\n",
    "            timeout=10\n",
    "        )\n",
    "        response.raise_for_status()\n",
    "        data = response.json()\n",
    "        \n",
    "        if \"session\" in data:\n",
    "            #log(f\"Logged into {base_url}.\")\n",
    "            return {\n",
    "                \"base_url\":base_url,\n",
    "                \"sid\": data[\"session\"][\"sid\"],\n",
    "                \"csrf\": data[\"session\"][\"csrf\"],\n",
    "            }\n",
    "        else:\n",
    "            log(f\"ERROR: Authentication failed for {base_url}\")\n",
    "            return None\n",
    "    except requests.exceptions.RequestException as e:\n",
    "        log(f\"ERROR: Could not connect to {base_url}: {e}\")\n",
    "        return False\n",
    "    "
   ]
  },
  {
   "cell_type": "code",
   "execution_count": 7,
   "id": "7bb3211f",
   "metadata": {},
   "outputs": [],
   "source": [
    "def deauth_pihole(session):\n",
    "    if not session:\n",
    "        log(\"DEBUG: No session to logout from\")\n",
    "        return\n",
    "    \n",
    "    try:\n",
    "        #log(f\"Logging out from {session['base_url']}...\")\n",
    "        response = requests.delete(\n",
    "            f\"{session['base_url']}/api/auth\",\n",
    "            headers={\n",
    "                \"X-FTL-SID\": session[\"sid\"],\n",
    "                \"X-FTL-CSRF\": session[\"csrf\"]\n",
    "            },\n",
    "            timeout=10\n",
    "        )\n",
    "        response.raise_for_status()\n",
    "        #log(f\"Logged out from {session['base_url']}\")\n",
    "        return True\n",
    "    except requests.exceptions.RequestException as e:\n",
    "        log(f\"WARNING: Could not logout from {session['base_url']}: {e}\")\n",
    "        return False"
   ]
  },
  {
   "cell_type": "code",
   "execution_count": 8,
   "id": "c6eee7a3",
   "metadata": {},
   "outputs": [],
   "source": [
    "def get_dhcp_status(session):\n",
    "    try:\n",
    "        response = requests.get(\n",
    "            f\"{session['base_url']}/api/config\",\n",
    "            headers={\n",
    "                \"X-FTL-SID\": session[\"sid\"],\n",
    "                \"X-FTL-CSRF\": session[\"csrf\"]\n",
    "            },\n",
    "            timeout=10\n",
    "        )\n",
    "        response.raise_for_status()\n",
    "        data = response.json()\n",
    "        \n",
    "        if \"config\" in data and \"dhcp\" in data[\"config\"]:\n",
    "            return data[\"config\"][\"dhcp\"].get(\"active\", False)\n",
    "        return False\n",
    "    except requests.exceptions.RequestException as e:\n",
    "        log(f\"ERROR: Could not get DHCP status from {session['base_url']}: {e}\")\n",
    "        return None"
   ]
  },
  {
   "cell_type": "code",
   "execution_count": 9,
   "id": "b5b1fbd0",
   "metadata": {},
   "outputs": [],
   "source": [
    "def set_dhcp_status(session, active):\n",
    "    ## Active is boolean true or false\n",
    "    try:\n",
    "        response = requests.patch(\n",
    "            f\"{session['base_url']}/api/config\",\n",
    "            headers={\n",
    "                \"X-FTL-SID\": session[\"sid\"],\n",
    "                \"X-FTL-CSRF\": session[\"csrf\"],\n",
    "                \"Content-Type\": \"application/json\"\n",
    "            },\n",
    "            json={\n",
    "                \"config\": {\n",
    "                    \"dhcp\": {\n",
    "                        \"active\": active\n",
    "                    }\n",
    "                }\n",
    "            },\n",
    "            timeout=10\n",
    "        )\n",
    "        response.raise_for_status()\n",
    "        data = response.json()\n",
    "        \n",
    "        if \"error\" in data:\n",
    "            log(f\"ERROR: Failed to set DHCP on {session['base_url']}: {data['error']}\")\n",
    "            return False\n",
    "        return True\n",
    "    except requests.exceptions.RequestException as e:\n",
    "        log(f\"ERROR: Could not set DHCP status on {session['base_url']}: {e}\")\n",
    "        return False"
   ]
  },
  {
   "cell_type": "code",
   "execution_count": null,
   "id": "7c834fee",
   "metadata": {},
   "outputs": [],
   "source": [
    "def Check_and_Set_DHCP(host, password, active):\n",
    "    ## active is a boolean passed into set_dhcp_Status(), determining failover or failback\n",
    "    session = auth_pihole(host,password)\n",
    "    if session == False:\n",
    "        log(f\"Unable to reach {host}.\")\n",
    "        return False\n",
    "    try:\n",
    "        dhcp_status = get_dhcp_status(session)\n",
    "\n",
    "        if dhcp_status == None:\n",
    "            log(f\"Unable to see if DHCP running on {session['base_url']}\")\n",
    "            if set_dhcp_status(session, active) == False:\n",
    "                log(f\"Tried making DHCP active:{active} on {session['base_url']} unsuccessfully.\")\n",
    "                return False\n",
    "            else:\n",
    "                log(f\"Made DHCP active:{active} on {session['base_url']} successfully.\")\n",
    "                return True\n",
    "        elif dhcp_status == active:\n",
    "            log(f\"DHCP already active:{active} on {session['base_url']}.\")\n",
    "            return True\n",
    "        elif dhcp_status != active:\n",
    "            if set_dhcp_status(session, active) == False:\n",
    "                log(f\"Tried making DHCP active:{active} on {session['base_url']} unsuccessfully.\")\n",
    "                return False\n",
    "            else:\n",
    "                log(f\"Made DHCP active:{active} on {session['base_url']} successfully.\")\n",
    "                return True\n",
    "    finally:\n",
    "        deauth_pihole(session)\n",
    " "
   ]
  },
  {
   "cell_type": "code",
   "execution_count": 11,
   "id": "193c9104",
   "metadata": {},
   "outputs": [],
   "source": [
    "def updater():\n",
    "    primary_check_and_set = Check_and_Set_DHCP(Primary_HOST,Primary_PASSWORD, True)\n",
    "    if primary_check_and_set == False: #Primary\n",
    "        secondary_check_and_set = Check_and_Set_DHCP(Secondary_HOST,Secondary_PASSWORD, True)\n",
    "        if secondary_check_and_set == False: #Secondary\n",
    "            log(f\"Unable to Enable Primary DHCP or Secondary DHCP\")\n",
    "            return 0\n",
    "        elif secondary_check_and_set == True:\n",
    "            log(f\"Unable to Enable Primary DHCP, Secondary DHCP enabled.\") \n",
    "            return 1\n",
    "    elif primary_check_and_set == True:\n",
    "        secondary_check_and_set = Check_and_Set_DHCP(Secondary_HOST,Secondary_PASSWORD, False)\n",
    "        if secondary_check_and_set == True:\n",
    "            log(\"Primary DHCP Enabled, Secondary DHCP Disabled.\")\n",
    "            return 1\n",
    "        elif secondary_check_and_set == False:\n",
    "            log(\"Primary DHCP Enabled, Unable to confirm status of secondary.\")                          \n",
    "            return 1\n",
    "\n",
    "\n"
   ]
  },
  {
   "cell_type": "code",
   "execution_count": 13,
   "id": "be4acef3",
   "metadata": {},
   "outputs": [],
   "source": [
    "def main():\n",
    "    \"\"\"Initialize and start monitoring loop\"\"\"\n",
    "    log(\"Starting Pi-hole DHCP failover monitor...\")\n",
    "    \n",
    "    # Validate configuration\n",
    "    if not Primary_HOST or not Secondary_HOST:\n",
    "        log(\"CRITICAL: Pi-hole IP addresses must be set!\")\n",
    "        log(\"Set either Primary_IP or Secondary_IP environment variables\")\n",
    "        log(f\"Current values: Primary_HOST={Primary_HOST}, Secondary_HOST={Secondary_HOST}\")\n",
    "        sys.exit(1)\n",
    "    \n",
    "    if not Primary_HOST or not Secondary_PASSWORD:\n",
    "        log(\"WARNING: Passwords not set. Using empty passwords.\")\n",
    "    \n",
    "    log(f\"Configuration:\")\n",
    "    log(f\"  Primary: {Primary_HOST}\")\n",
    "    log(f\"  Secondary: {Secondary_HOST}\")\n",
    "    log(f\"  Check interval: {CHECK_INTERVAL} seconds\")\n",
    "    \n",
    "    # Main monitoring loop\n",
    "    while True:\n",
    "        try:\n",
    "            exit_code = updater()\n",
    "            if exit_code != 0:\n",
    "                log(f\"Check completed with exit code {exit_code}\")\n",
    "        except Exception as e:\n",
    "            log(f\"ERROR during check: {e}\")\n",
    "        \n",
    "        log(f\"Waiting {CHECK_INTERVAL} seconds until next check...\")\n",
    "        time.sleep(int(CHECK_INTERVAL))\n",
    "\n",
    "    "
   ]
  },
  {
   "cell_type": "code",
   "execution_count": null,
   "id": "cdea8419",
   "metadata": {},
   "outputs": [
    {
     "name": "stdout",
     "output_type": "stream",
     "text": [
      "[2025-11-01 22:33:04] Starting Pi-hole DHCP failover monitor...\n",
      "[2025-11-01 22:33:04] Configuration:\n",
      "[2025-11-01 22:33:04]   Primary: http://192.168.0.2:82\n",
      "[2025-11-01 22:33:04]   Secondary: http://192.168.0.3:82\n",
      "[2025-11-01 22:33:04]   Check interval: 300 seconds\n",
      "[2025-11-01 22:33:04] DHCP already active:True on http://192.168.0.2:82.\n",
      "[2025-11-01 22:33:07] ERROR: Could not connect to http://192.168.0.3:82: HTTPConnectionPool(host='192.168.0.3', port=82): Max retries exceeded with url: /api/auth (Caused by NewConnectionError('<urllib3.connection.HTTPConnection object at 0x000002E58F4FE360>: Failed to establish a new connection: [WinError 10061] No connection could be made because the target machine actively refused it'))\n",
      "[2025-11-01 22:33:07] ERROR during check: 'bool' object is not subscriptable\n",
      "[2025-11-01 22:33:07] Waiting 300 seconds until next check...\n",
      "[2025-11-01 22:38:07] DHCP already active:True on http://192.168.0.2:82.\n",
      "[2025-11-01 22:38:09] Made DHCP active:False on http://192.168.0.3:82 successfully.\n",
      "[2025-11-01 22:38:10] Primary DHCP Enabled, Secondary DHCP Disabled.\n",
      "[2025-11-01 22:38:10] Check completed with exit code 1\n",
      "[2025-11-01 22:38:10] Waiting 300 seconds until next check...\n"
     ]
    }
   ],
   "source": [
    "if __name__ == \"__main__\":\n",
    "    try:\n",
    "        main()\n",
    "    except KeyboardInterrupt:\n",
    "        log(\"Interrupted by user - shutting down\")\n",
    "        sys.exit(0)"
   ]
  }
 ],
 "metadata": {
  "kernelspec": {
   "display_name": "Python 3",
   "language": "python",
   "name": "python3"
  },
  "language_info": {
   "codemirror_mode": {
    "name": "ipython",
    "version": 3
   },
   "file_extension": ".py",
   "mimetype": "text/x-python",
   "name": "python",
   "nbconvert_exporter": "python",
   "pygments_lexer": "ipython3",
   "version": "3.13.5"
  }
 },
 "nbformat": 4,
 "nbformat_minor": 5
}
